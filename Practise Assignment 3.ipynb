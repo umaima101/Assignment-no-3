{
 "cells": [
  {
   "cell_type": "markdown",
   "metadata": {},
   "source": [
    "# Q1:"
   ]
  },
  {
   "cell_type": "markdown",
   "metadata": {},
   "source": [
    "Think of at least three kinds of your favorite pizza. Store these pizza names in a list, and then use a for loop to print the name of each pizza."
   ]
  },
  {
   "cell_type": "code",
   "execution_count": 1,
   "metadata": {},
   "outputs": [],
   "source": [
    "pizza= {\"ArabianFeast\":\"I like arabianfeast pizza\",\"CreamyTikka\":\"I like creamytikka pizza\",\"Supreme\":\"I like supreme pizza\"}"
   ]
  },
  {
   "cell_type": "code",
   "execution_count": 2,
   "metadata": {},
   "outputs": [
    {
     "name": "stdout",
     "output_type": "stream",
     "text": [
      "ArabianFeast\n",
      "CreamyTikka\n",
      "Supreme\n"
     ]
    }
   ],
   "source": [
    "for names in pizza:\n",
    "    print(names)"
   ]
  },
  {
   "cell_type": "markdown",
   "metadata": {},
   "source": [
    "# Q2"
   ]
  },
  {
   "cell_type": "markdown",
   "metadata": {},
   "source": [
    "Start with your last question , Modify your for loop to print a sentence using the name of the pizza\n",
    "instead of printing just the name of the pizza. For each pizza you should\n",
    "have one line of output containing a simple statement like I like pepperoni\n",
    "pizza."
   ]
  },
  {
   "cell_type": "code",
   "execution_count": 3,
   "metadata": {},
   "outputs": [
    {
     "name": "stdout",
     "output_type": "stream",
     "text": [
      "I like arabianfeast pizza\n",
      "I like creamytikka pizza\n",
      "I like supreme pizza\n"
     ]
    }
   ],
   "source": [
    "for fav in pizza.values():\n",
    "    print(fav)"
   ]
  },
  {
   "cell_type": "code",
   "execution_count": null,
   "metadata": {},
   "outputs": [],
   "source": []
  },
  {
   "cell_type": "code",
   "execution_count": null,
   "metadata": {},
   "outputs": [],
   "source": []
  },
  {
   "cell_type": "markdown",
   "metadata": {},
   "source": [
    "# Q3:"
   ]
  },
  {
   "cell_type": "markdown",
   "metadata": {},
   "source": [
    "Use a for loop to print the numbers from 1 to 20,\n",
    "inclusive."
   ]
  },
  {
   "cell_type": "code",
   "execution_count": 4,
   "metadata": {},
   "outputs": [],
   "source": [
    "num = list(range(1,21))"
   ]
  },
  {
   "cell_type": "code",
   "execution_count": 5,
   "metadata": {},
   "outputs": [
    {
     "name": "stdout",
     "output_type": "stream",
     "text": [
      "1\n",
      "2\n",
      "3\n",
      "4\n",
      "5\n",
      "6\n",
      "7\n",
      "8\n",
      "9\n",
      "10\n",
      "11\n",
      "12\n",
      "13\n",
      "14\n",
      "15\n",
      "16\n",
      "17\n",
      "18\n",
      "19\n",
      "20\n"
     ]
    }
   ],
   "source": [
    "for numbers in num:\n",
    "    print(numbers)"
   ]
  },
  {
   "cell_type": "code",
   "execution_count": null,
   "metadata": {},
   "outputs": [],
   "source": []
  },
  {
   "cell_type": "markdown",
   "metadata": {},
   "source": [
    "# Q4:"
   ]
  },
  {
   "cell_type": "markdown",
   "metadata": {},
   "source": [
    "Use the third argument of the range() function to make a list\n",
    "of the odd numbers from 1 to 20. Use a for loop to print each number."
   ]
  },
  {
   "cell_type": "code",
   "execution_count": 6,
   "metadata": {},
   "outputs": [],
   "source": [
    "num = list(range(1,21,2))"
   ]
  },
  {
   "cell_type": "code",
   "execution_count": 7,
   "metadata": {},
   "outputs": [
    {
     "name": "stdout",
     "output_type": "stream",
     "text": [
      "1\n",
      "3\n",
      "5\n",
      "7\n",
      "9\n",
      "11\n",
      "13\n",
      "15\n",
      "17\n",
      "19\n"
     ]
    }
   ],
   "source": [
    "for numbers in num:\n",
    "    print(numbers)"
   ]
  },
  {
   "cell_type": "code",
   "execution_count": null,
   "metadata": {},
   "outputs": [],
   "source": []
  },
  {
   "cell_type": "markdown",
   "metadata": {},
   "source": [
    "# Q5:"
   ]
  },
  {
   "cell_type": "markdown",
   "metadata": {},
   "source": [
    "Make a list of the multiples of 3 from 3 to 30. Use a for loop to\n",
    "print the numbers in your list."
   ]
  },
  {
   "cell_type": "code",
   "execution_count": 10,
   "metadata": {},
   "outputs": [],
   "source": [
    "num = list(range(3,31,3))"
   ]
  },
  {
   "cell_type": "code",
   "execution_count": 11,
   "metadata": {},
   "outputs": [
    {
     "name": "stdout",
     "output_type": "stream",
     "text": [
      "3\n",
      "6\n",
      "9\n",
      "12\n",
      "15\n",
      "18\n",
      "21\n",
      "24\n",
      "27\n",
      "30\n"
     ]
    }
   ],
   "source": [
    "for numbers in num:\n",
    "    print(numbers)"
   ]
  },
  {
   "cell_type": "code",
   "execution_count": null,
   "metadata": {},
   "outputs": [],
   "source": []
  },
  {
   "cell_type": "code",
   "execution_count": null,
   "metadata": {},
   "outputs": [],
   "source": []
  },
  {
   "cell_type": "markdown",
   "metadata": {},
   "source": [
    "# Q6:"
   ]
  },
  {
   "cell_type": "markdown",
   "metadata": {},
   "source": [
    "A number raised to the third power is called a cube. For example,\n",
    "the cube of 2 is written as 2**3 in Python. Make a list of the first 10 cubes (that\n",
    "is, the cube of each integer from 1 through 10), and use a for loop to print out\n",
    "the value of each cube"
   ]
  },
  {
   "cell_type": "code",
   "execution_count": 12,
   "metadata": {},
   "outputs": [],
   "source": [
    "num = list(range(1,11))"
   ]
  },
  {
   "cell_type": "code",
   "execution_count": 13,
   "metadata": {},
   "outputs": [
    {
     "name": "stdout",
     "output_type": "stream",
     "text": [
      "1\n",
      "8\n",
      "27\n",
      "64\n",
      "125\n",
      "216\n",
      "343\n",
      "512\n",
      "729\n",
      "1000\n"
     ]
    }
   ],
   "source": [
    "for numbers in num:\n",
    "    print(numbers**3)"
   ]
  },
  {
   "cell_type": "code",
   "execution_count": null,
   "metadata": {},
   "outputs": [],
   "source": []
  },
  {
   "cell_type": "code",
   "execution_count": null,
   "metadata": {},
   "outputs": [],
   "source": []
  },
  {
   "cell_type": "markdown",
   "metadata": {},
   "source": [
    "# Q7:"
   ]
  },
  {
   "cell_type": "markdown",
   "metadata": {},
   "source": [
    "###### Make a python program that conatains your nine favourite dishes in a list called foods.\n",
    "\n",
    "###### Print the message, The first three items in the list are:. \n",
    "###### Then use a slice to print the first three items from that program’s list.\n",
    "\n",
    "###### Print the message, Three items from the middle of the list are:\n",
    "###### Use a slice to print three items from the middle of the list.\n",
    "\n",
    "###### Print the message, The last three items in the list are:\n",
    "###### Use a slice to print the last three items in the list."
   ]
  },
  {
   "cell_type": "code",
   "execution_count": 14,
   "metadata": {},
   "outputs": [],
   "source": [
    "food= [\"biryani\",\"pasta\",\"lasagna\",\"pizza\",\"calzone\",\"kungpao chicken\",\"steak\",\"nihari\",\"pulao\"]"
   ]
  },
  {
   "cell_type": "code",
   "execution_count": 15,
   "metadata": {},
   "outputs": [],
   "source": [
    "slice_1 = food[0:3] "
   ]
  },
  {
   "cell_type": "code",
   "execution_count": 16,
   "metadata": {},
   "outputs": [
    {
     "name": "stdout",
     "output_type": "stream",
     "text": [
      "The first three items in the list are: ['biryani', 'pasta', 'lasagna']\n"
     ]
    }
   ],
   "source": [
    "print(f\"The first three items in the list are: {slice_1}\")"
   ]
  },
  {
   "cell_type": "code",
   "execution_count": 17,
   "metadata": {},
   "outputs": [],
   "source": [
    "slice_2 = food[3:6]"
   ]
  },
  {
   "cell_type": "code",
   "execution_count": 18,
   "metadata": {},
   "outputs": [
    {
     "name": "stdout",
     "output_type": "stream",
     "text": [
      "The items from middle of the list are: ['pizza', 'calzone', 'kungpao chicken']\n"
     ]
    }
   ],
   "source": [
    "print(f\"The items from middle of the list are: {slice_2}\")"
   ]
  },
  {
   "cell_type": "code",
   "execution_count": 19,
   "metadata": {},
   "outputs": [],
   "source": [
    "slice_3 = food[6:9]"
   ]
  },
  {
   "cell_type": "code",
   "execution_count": 20,
   "metadata": {},
   "outputs": [
    {
     "name": "stdout",
     "output_type": "stream",
     "text": [
      "The last three items in the list are: ['steak', 'nihari', 'pulao']\n"
     ]
    }
   ],
   "source": [
    "print(f\"The last three items in the list are: {slice_3}\")"
   ]
  },
  {
   "cell_type": "markdown",
   "metadata": {},
   "source": [
    "# Q8:"
   ]
  },
  {
   "cell_type": "markdown",
   "metadata": {},
   "source": [
    "### Start with your program from your last Question8.\n",
    "###### Make a copy of the list of foods, and call it friend_foods.\n",
    "###### Then, do the following:\n",
    "######    Add a new dish to the original list.\n",
    "######    Add a different dish to the list friend_foodss.\n",
    "######    Prove that you have two separate lists. \n",
    "###### Print the message, My favorite pizzas are: and then use a for loop to print the first list. \n",
    "###### Print the message,\n",
    "###### My friend’s favorite foods are:, and then use a for loop to print the second list.\n",
    "    \n",
    "##### NOTE: Make sure each new dish is stored in the appropriate list."
   ]
  },
  {
   "cell_type": "code",
   "execution_count": 21,
   "metadata": {},
   "outputs": [],
   "source": [
    "friend_foods = food.copy()"
   ]
  },
  {
   "cell_type": "code",
   "execution_count": 22,
   "metadata": {},
   "outputs": [],
   "source": [
    "food.append(\"cake\")"
   ]
  },
  {
   "cell_type": "code",
   "execution_count": 23,
   "metadata": {},
   "outputs": [],
   "source": [
    "friend_foods.append(\"chocolate fudge\")"
   ]
  },
  {
   "cell_type": "code",
   "execution_count": 24,
   "metadata": {},
   "outputs": [
    {
     "name": "stdout",
     "output_type": "stream",
     "text": [
      "My favourite foods are: \n",
      "biryani\n",
      "pasta\n",
      "lasagna\n",
      "pizza\n",
      "calzone\n",
      "kungpao chicken\n",
      "steak\n",
      "nihari\n",
      "pulao\n",
      "cake\n"
     ]
    }
   ],
   "source": [
    "print(\"My favourite foods are: \")\n",
    "for list1 in food:\n",
    "    print(list1)"
   ]
  },
  {
   "cell_type": "code",
   "execution_count": 25,
   "metadata": {},
   "outputs": [
    {
     "name": "stdout",
     "output_type": "stream",
     "text": [
      "My friend's favourite foods are: \n",
      "biryani\n",
      "pasta\n",
      "lasagna\n",
      "pizza\n",
      "calzone\n",
      "kungpao chicken\n",
      "steak\n",
      "nihari\n",
      "pulao\n",
      "chocolate fudge\n"
     ]
    }
   ],
   "source": [
    "print(\"My friend's favourite foods are: \")\n",
    "for list2 in friend_foods:\n",
    "    print(list2)\n"
   ]
  },
  {
   "cell_type": "code",
   "execution_count": null,
   "metadata": {},
   "outputs": [],
   "source": [
    " "
   ]
  },
  {
   "cell_type": "code",
   "execution_count": null,
   "metadata": {},
   "outputs": [],
   "source": []
  },
  {
   "cell_type": "markdown",
   "metadata": {},
   "source": [
    "# Q9:"
   ]
  },
  {
   "cell_type": "markdown",
   "metadata": {},
   "source": [
    "Take a user input from console line.Store it in a variable called Alien_color.\n",
    "\n",
    "If the alien’s color is red, print a statement that the player just earned 5 points for shooting the alien.\n",
    "\n",
    "If the alien’s color is green, print a statement that the player just earned 10 points.\n",
    "\n",
    "If the alien's color isn't red or green , print a statment :, Alien is no more....."
   ]
  },
  {
   "cell_type": "code",
   "execution_count": 26,
   "metadata": {},
   "outputs": [
    {
     "name": "stdout",
     "output_type": "stream",
     "text": [
      "Enter the color of the alien: red\n",
      "You earned 5 points for shooting the alien\n"
     ]
    }
   ],
   "source": [
    "Alien_color = input(\"Enter the color of the alien: \")\n",
    "if Alien_color == \"red\": #and Alien_color != \"green\":\n",
    "    print(\"You earned 5 points for shooting the alien\")\n",
    "elif Alien_color == \"green\":\n",
    "        print(\"you earned 10 points for shooting the alien\")\n",
    "else:\n",
    "    print(\"Alien is no more\")\n"
   ]
  },
  {
   "cell_type": "code",
   "execution_count": 27,
   "metadata": {},
   "outputs": [
    {
     "name": "stdout",
     "output_type": "stream",
     "text": [
      "Enter the color of the alien: green\n",
      "you earned 10 points for shooting the alien\n"
     ]
    }
   ],
   "source": [
    "Alien_color = input(\"Enter the color of the alien: \")\n",
    "if Alien_color == \"red\": #and Alien_color != \"green\":\n",
    "    print(\"You earned 5 points for shooting the alien\")\n",
    "elif Alien_color == \"green\":\n",
    "        print(\"you earned 10 points for shooting the alien\")\n",
    "else:\n",
    "    print(\"Alien is no more\")\n"
   ]
  },
  {
   "cell_type": "code",
   "execution_count": 28,
   "metadata": {},
   "outputs": [
    {
     "name": "stdout",
     "output_type": "stream",
     "text": [
      "Enter the color of the alien: blue\n",
      "Alien is no more\n"
     ]
    }
   ],
   "source": [
    "Alien_color = input(\"Enter the color of the alien: \")\n",
    "if Alien_color == \"red\": #and Alien_color != \"green\":\n",
    "    print(\"You earned 5 points for shooting the alien\")\n",
    "elif Alien_color == \"green\":\n",
    "        print(\"you earned 10 points for shooting the alien\")\n",
    "else:\n",
    "    print(\"Alien is no more\")\n"
   ]
  },
  {
   "cell_type": "code",
   "execution_count": null,
   "metadata": {},
   "outputs": [],
   "source": []
  },
  {
   "cell_type": "markdown",
   "metadata": {},
   "source": [
    "# Q10:"
   ]
  },
  {
   "cell_type": "markdown",
   "metadata": {},
   "source": [
    "Write an if-elif-else chain that determines a person’s\n",
    "stage of life. Set a value for the variable age, and then:\n",
    "    \n",
    "•\t If the person is less than 2 years old, print a message that the person is a baby.\n",
    "\n",
    "•\t If the person is at least 2 years old but less than 4, print a message that the person is a toddler.\n",
    "\n",
    "•\t If the person is at least 4 years old but less than 13, print a message that the person is a kid.\n",
    "\n",
    "•\t If the person is at least 13 years old but less than 20, print a message that the person is a teenager.\n",
    "\n",
    "•\t If the person is at least 20 years old but less than 65, print a message that the person is an adult.\n",
    "\n",
    "•\t If the person is age 65 or older, print a message that the person is an elder."
   ]
  },
  {
   "cell_type": "code",
   "execution_count": 29,
   "metadata": {},
   "outputs": [
    {
     "name": "stdout",
     "output_type": "stream",
     "text": [
      "the person is a teenager\n"
     ]
    }
   ],
   "source": [
    "age = 19\n",
    "if age<2:\n",
    "    print(\"the person is a baby\")\n",
    "elif age>=2 and age<4:\n",
    "    print(\"the person is a  toddler\")\n",
    "elif age>=4 and age<13:\n",
    "    print(\"the person is a kid\")\n",
    "elif age>=13 and age<20:\n",
    "    print(\"the person is a teenager\")\n",
    "elif age>=20 and age<65:\n",
    "    print(\"the person is an adult\")\n",
    "elif age>=65:\n",
    "    print(\"the person is an elder\")"
   ]
  },
  {
   "cell_type": "code",
   "execution_count": 30,
   "metadata": {},
   "outputs": [
    {
     "name": "stdout",
     "output_type": "stream",
     "text": [
      "the person is a baby\n"
     ]
    }
   ],
   "source": [
    "age = 1\n",
    "if age<2:\n",
    "    print(\"the person is a baby\")\n",
    "elif age>=2 and age<4:\n",
    "    print(\"the person is a  toddler\")\n",
    "elif age>=4 and age<13:\n",
    "    print(\"the person is a kid\")\n",
    "elif age>=13 and age<20:\n",
    "    print(\"the person is a teenager\")\n",
    "elif age>=20 and age<65:\n",
    "    print(\"the person is an adult\")\n",
    "elif age>=65:\n",
    "    print(\"the person is an elder\")"
   ]
  },
  {
   "cell_type": "code",
   "execution_count": 31,
   "metadata": {},
   "outputs": [
    {
     "name": "stdout",
     "output_type": "stream",
     "text": [
      "the person is a  toddler\n"
     ]
    }
   ],
   "source": [
    "age = 3\n",
    "if age<2:\n",
    "    print(\"the person is a baby\")\n",
    "elif age>=2 and age<4:\n",
    "    print(\"the person is a  toddler\")\n",
    "elif age>=4 and age<13:\n",
    "    print(\"the person is a kid\")\n",
    "elif age>=13 and age<20:\n",
    "    print(\"the person is a teenager\")\n",
    "elif age>=20 and age<65:\n",
    "    print(\"the person is an adult\")\n",
    "elif age>=65:\n",
    "    print(\"the person is an elder\")"
   ]
  },
  {
   "cell_type": "code",
   "execution_count": 32,
   "metadata": {},
   "outputs": [
    {
     "name": "stdout",
     "output_type": "stream",
     "text": [
      "the person is an adult\n"
     ]
    }
   ],
   "source": [
    "age = 30\n",
    "if age<2:\n",
    "    print(\"the person is a baby\")\n",
    "elif age>=2 and age<4:\n",
    "    print(\"the person is a  toddler\")\n",
    "elif age>=4 and age<13:\n",
    "    print(\"the person is a kid\")\n",
    "elif age>=13 and age<20:\n",
    "    print(\"the person is a teenager\")\n",
    "elif age>=20 and age<65:\n",
    "    print(\"the person is an adult\")\n",
    "elif age>=65:\n",
    "    print(\"the person is an elder\")"
   ]
  },
  {
   "cell_type": "code",
   "execution_count": 33,
   "metadata": {},
   "outputs": [
    {
     "name": "stdout",
     "output_type": "stream",
     "text": [
      "the person is a kid\n"
     ]
    }
   ],
   "source": [
    "age = 5\n",
    "if age<2:\n",
    "    print(\"the person is a baby\")\n",
    "elif age>=2 and age<4:\n",
    "    print(\"the person is a  toddler\")\n",
    "elif age>=4 and age<13:\n",
    "    print(\"the person is a kid\")\n",
    "elif age>=13 and age<20:\n",
    "    print(\"the person is a teenager\")\n",
    "elif age>=20 and age<65:\n",
    "    print(\"the person is an adult\")\n",
    "elif age>=65:\n",
    "    print(\"the person is an elder\")"
   ]
  },
  {
   "cell_type": "code",
   "execution_count": 34,
   "metadata": {},
   "outputs": [
    {
     "name": "stdout",
     "output_type": "stream",
     "text": [
      "the person is an elder\n"
     ]
    }
   ],
   "source": [
    "age = 75\n",
    "if age<2:\n",
    "    print(\"the person is a baby\")\n",
    "elif age>=2 and age<4:\n",
    "    print(\"the person is a  toddler\")\n",
    "elif age>=4 and age<13:\n",
    "    print(\"the person is a kid\")\n",
    "elif age>=13 and age<20:\n",
    "    print(\"the person is a teenager\")\n",
    "elif age>=20 and age<65:\n",
    "    print(\"the person is an adult\")\n",
    "elif age>=65:\n",
    "    print(\"the person is an elder\")"
   ]
  },
  {
   "cell_type": "markdown",
   "metadata": {},
   "source": [
    "# Q11:"
   ]
  },
  {
   "cell_type": "markdown",
   "metadata": {},
   "source": [
    "Do the following to create a program that simulates how websites ensure that everyone has a unique username.\n",
    "\n",
    "•\t Make a list of five or more usernames called current_users.\n",
    "\n",
    "•\t Make another list of five usernames called new_users. \n",
    "Make sure one or two of the new usernames are also in the current_users list.\n",
    "\n",
    "•\t Loop through the new_users list to see if each new username has already been used. \n",
    "If it has, print a message that the person will need to enter a new username. \n",
    "If a username has not been used, print a message saying that the username is available.\n",
    "\n",
    "•\t Make sure your comparison is case insensitive. If 'John' has been used, 'JOHN' should not be accepted."
   ]
  },
  {
   "cell_type": "code",
   "execution_count": 35,
   "metadata": {},
   "outputs": [],
   "source": [
    "current_users = [x.lower() for x in [\"umaima\",\"ayesha\",\"mustafa\",\"shoaib\",\"sara\",\"saad\"]]"
   ]
  },
  {
   "cell_type": "code",
   "execution_count": 36,
   "metadata": {},
   "outputs": [],
   "source": [
    "new_users = [x.lower() for x in [\"humaira\",\"lareb\",\"sara\",\"muzammil\",\"ayesha\"]]"
   ]
  },
  {
   "cell_type": "code",
   "execution_count": 37,
   "metadata": {},
   "outputs": [
    {
     "name": "stdout",
     "output_type": "stream",
     "text": [
      "the username is available\n",
      "the username is available\n",
      " you need to enter a new username\n",
      "the username is available\n",
      " you need to enter a new username\n"
     ]
    }
   ],
   "source": [
    "for users in new_users:\n",
    "    if users in current_users:\n",
    "        print(\" you need to enter a new username\")\n",
    "    else:\n",
    "        print(\"the username is available\")"
   ]
  },
  {
   "cell_type": "code",
   "execution_count": null,
   "metadata": {},
   "outputs": [],
   "source": []
  },
  {
   "cell_type": "markdown",
   "metadata": {},
   "source": [
    "# Q12:"
   ]
  },
  {
   "cell_type": "markdown",
   "metadata": {},
   "source": [
    "Use a dictionary to store information about a person you know.\n",
    "Store their first name, last name, age, and the city in which they live. \n",
    "You should have keys such as first_name, last_name, age, and city. \n",
    "Print each piece of information stored in your dictionary"
   ]
  },
  {
   "cell_type": "code",
   "execution_count": 38,
   "metadata": {},
   "outputs": [],
   "source": [
    "person = {\"firstname\":\"umaima\",\"lastname\" : \"hussain\",\"age\" : 19,\"city\" : \"karachi\"}\n"
   ]
  },
  {
   "cell_type": "code",
   "execution_count": 39,
   "metadata": {},
   "outputs": [
    {
     "name": "stdout",
     "output_type": "stream",
     "text": [
      "{'firstname': 'umaima', 'lastname': 'hussain', 'age': 19, 'city': 'karachi'}\n"
     ]
    }
   ],
   "source": [
    "print(person)"
   ]
  },
  {
   "cell_type": "code",
   "execution_count": null,
   "metadata": {},
   "outputs": [],
   "source": []
  },
  {
   "cell_type": "code",
   "execution_count": null,
   "metadata": {},
   "outputs": [],
   "source": []
  },
  {
   "cell_type": "markdown",
   "metadata": {},
   "source": [
    "# Q13:"
   ]
  },
  {
   "cell_type": "markdown",
   "metadata": {},
   "source": [
    "Starts with your last question 12 , loop through the dictionary’s keys and values.\n",
    "When you’re sure that your loop works, add five more Python terms to your\n",
    "dictionary . When you run your program again, these new words and meanings\n",
    "should automatically be included in the output."
   ]
  },
  {
   "cell_type": "code",
   "execution_count": 41,
   "metadata": {},
   "outputs": [
    {
     "name": "stdout",
     "output_type": "stream",
     "text": [
      "firstname umaima\n",
      "lastname hussain\n",
      "age 19\n",
      "city karachi\n"
     ]
    }
   ],
   "source": [
    "for key,value in person.items():\n",
    "    print(key, value)"
   ]
  },
  {
   "cell_type": "code",
   "execution_count": 42,
   "metadata": {},
   "outputs": [],
   "source": [
    "person[\"range\"]=\"sets the range for the number of iterations in a loop\""
   ]
  },
  {
   "cell_type": "code",
   "execution_count": 43,
   "metadata": {},
   "outputs": [],
   "source": [
    "person[\"list\"]=\"to store a number of items at one place\""
   ]
  },
  {
   "cell_type": "code",
   "execution_count": 44,
   "metadata": {},
   "outputs": [],
   "source": [
    "person[\"while\"]=\"to iterate until a certain condition is true\""
   ]
  },
  {
   "cell_type": "code",
   "execution_count": 45,
   "metadata": {},
   "outputs": [],
   "source": [
    "person[\"for\"]=\"to iterate until the given range or whole\""
   ]
  },
  {
   "cell_type": "code",
   "execution_count": 46,
   "metadata": {},
   "outputs": [],
   "source": [
    "person[\"print\"]=\"to display the contents within the text\""
   ]
  },
  {
   "cell_type": "code",
   "execution_count": 47,
   "metadata": {},
   "outputs": [
    {
     "name": "stdout",
     "output_type": "stream",
     "text": [
      "firstname umaima\n",
      "lastname hussain\n",
      "age 19\n",
      "city karachi\n",
      "range sets the range for the number of iterations in a loop\n",
      "list to store a number of items at one place\n",
      "while to iterate until a certain condition is true\n",
      "for to iterate until the given range or whole\n",
      "print to display the contents within the text\n"
     ]
    }
   ],
   "source": [
    "for key,value in person.items():\n",
    "    print(key, value)"
   ]
  },
  {
   "cell_type": "code",
   "execution_count": null,
   "metadata": {},
   "outputs": [],
   "source": []
  },
  {
   "cell_type": "markdown",
   "metadata": {},
   "source": [
    "# Q14:"
   ]
  },
  {
   "cell_type": "markdown",
   "metadata": {},
   "source": [
    "Make a dictionary containing three major rivers and the country\n",
    "each river runs through. One key-value pair might be 'nile': 'egypt'.\n",
    "    \n",
    "    \n",
    "•\t Use a loop to print a sentence about each river, such as The Nile runs\n",
    "through Egypt.\n",
    "\n",
    "NOTE: use upper case through keys and values."
   ]
  },
  {
   "cell_type": "code",
   "execution_count": 48,
   "metadata": {},
   "outputs": [],
   "source": [
    "rivers = {\"nile\":\"egypt\",\"mississipi\":\"USA\",\"volga\":\"russia\"}"
   ]
  },
  {
   "cell_type": "code",
   "execution_count": 49,
   "metadata": {},
   "outputs": [
    {
     "name": "stdout",
     "output_type": "stream",
     "text": [
      "NILE runs through EGYPT\n",
      "MISSISSIPI runs through USA\n",
      "VOLGA runs through RUSSIA\n"
     ]
    }
   ],
   "source": [
    "for river,country in rivers.items():\n",
    "    print(f\"{river.upper()} runs through {country.upper()}\")"
   ]
  },
  {
   "cell_type": "code",
   "execution_count": null,
   "metadata": {},
   "outputs": [],
   "source": []
  },
  {
   "cell_type": "markdown",
   "metadata": {},
   "source": [
    "# Q15:"
   ]
  },
  {
   "cell_type": "markdown",
   "metadata": {},
   "source": [
    "Make several dictionaries, where the name of each dictionary is the\n",
    "name of a pet. In each dictionary, include the kind of animal and the owner’s\n",
    "name. Store these dictionaries in a list called pets. Next, loop through your list\n",
    "and as you do print everything you know about each pet."
   ]
  },
  {
   "cell_type": "code",
   "execution_count": 50,
   "metadata": {},
   "outputs": [
    {
     "name": "stdout",
     "output_type": "stream",
     "text": [
      "{'animal-type': 'dog', \"owner's name\": 'umaima'}\n",
      "{'animal-type': 'bunny', \"owner's name\": 'humaira'}\n",
      "{'animal-type': 'parrot', \"owner's name\": 'ayesha'}\n"
     ]
    }
   ],
   "source": [
    "rocky={\"animal-type\":\"dog\",\"owner's name\":\"umaima\"}\n",
    "shifu = {\"animal-type\":\"bunny\",\"owner's name\":\"humaira\"}\n",
    "mitthu = {\"animal-type\":\"parrot\",\"owner's name\":\"ayesha\"}\n",
    "pets = [rocky,shifu,mitthu]\n",
    "for info in pets:\n",
    "    print(info)"
   ]
  },
  {
   "cell_type": "code",
   "execution_count": null,
   "metadata": {},
   "outputs": [],
   "source": []
  }
 ],
 "metadata": {
  "kernelspec": {
   "display_name": "Python 3",
   "language": "python",
   "name": "python3"
  },
  "language_info": {
   "codemirror_mode": {
    "name": "ipython",
    "version": 3
   },
   "file_extension": ".py",
   "mimetype": "text/x-python",
   "name": "python",
   "nbconvert_exporter": "python",
   "pygments_lexer": "ipython3",
   "version": "3.7.3"
  }
 },
 "nbformat": 4,
 "nbformat_minor": 2
}
